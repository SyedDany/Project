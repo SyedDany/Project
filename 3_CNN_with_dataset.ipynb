{
  "nbformat": 4,
  "nbformat_minor": 0,
  "metadata": {
    "colab": {
      "provenance": [],
      "authorship_tag": "ABX9TyOciha2hgrWaU6lHj8eizwF"
    },
    "kernelspec": {
      "name": "python3",
      "display_name": "Python 3"
    },
    "language_info": {
      "name": "python"
    }
  },
  "cells": [
    {
      "cell_type": "markdown",
      "source": [
        "**Simple CNN**"
      ],
      "metadata": {
        "id": "mZXP83kGTR6w"
      }
    },
    {
      "cell_type": "code",
      "execution_count": null,
      "metadata": {
        "colab": {
          "base_uri": "https://localhost:8080/"
        },
        "id": "Ir_BO4LaTE0-",
        "outputId": "e4e74baa-64e8-443e-bcbd-2cc07baca94d"
      },
      "outputs": [
        {
          "output_type": "stream",
          "name": "stdout",
          "text": [
            "313/313 [==============================] - 2s 5ms/step - loss: 23.5306 - accuracy: 0.0499\n",
            "Accuracy:  0.04989999905228615\n"
          ]
        }
      ],
      "source": [
        "import pandas as pd\n",
        "import numpy as np\n",
        "from keras.models import Sequential\n",
        "from keras.layers import Conv2D, MaxPooling2D, Flatten, Dense\n",
        "\n",
        "# Loading Data\n",
        "train_data = pd.read_csv('/content/fashion-mnist_test.csv')\n",
        "test_data = pd.read_csv('/content/fashion-mnist_test.csv')\n",
        "\n",
        "# Assuming the last column is the target and the rest are features\n",
        "X_train = train_data.iloc[:, :-1].values\n",
        "y_train = train_data.iloc[:, -1].values\n",
        "X_test = test_data.iloc[:, :-1].values\n",
        "y_test = test_data.iloc[:, -1].values\n",
        "\n",
        "# Reshape data\n",
        "X_train = X_train.reshape(-1, 28, 28, 1)  # Add a dimension for the channel\n",
        "X_test = X_test.reshape(-1, 28, 28, 1)  # Add a dimension for the channel\n",
        "\n",
        "num_classes = len(np.unique(y_train))  # Calculate the number of unique classes\n",
        "\n",
        "# Create model\n",
        "model = Sequential()\n",
        "model.add(Conv2D(32, (3, 3), activation='relu', input_shape=(28, 28, 1)))\n",
        "model.add(MaxPooling2D((2, 2)))\n",
        "model.add(Flatten())\n",
        "model.add(Dense(128, activation='relu'))\n",
        "model.add(Dense(num_classes, activation='softmax'))  # Use 'num_classes' here\n",
        "\n",
        "# Compile model\n",
        "model.compile(optimizer='adam', loss='categorical_crossentropy', metrics=['accuracy'])\n",
        "\n",
        "# Train model\n",
        "from keras.utils import to_categorical\n",
        "\n",
        "# One-hot encode target variable\n",
        "from sklearn.preprocessing import LabelEncoder\n",
        "\n",
        "le = LabelEncoder()\n",
        "y_train = le.fit_transform(y_train)\n",
        "y_test = le.transform(y_test)\n",
        "\n",
        "# Now you can one-hot encode your labels\n",
        "y_train = to_categorical(y_train)\n",
        "y_test = to_categorical(y_test)\n",
        "num_classes = y_train.shape[1]  # Calculate the number of unique classes\n",
        "\n",
        "\n",
        "# Evaluate model\n",
        "loss, accuracy = model.evaluate(X_test, y_test)\n",
        "print(\"Accuracy: \", accuracy)\n",
        "\n"
      ]
    },
    {
      "cell_type": "markdown",
      "source": [
        "**Simple CNN with data augmentation**"
      ],
      "metadata": {
        "id": "ommwN49STY5K"
      }
    },
    {
      "cell_type": "code",
      "source": [
        "from keras.preprocessing.image import ImageDataGenerator\n",
        "\n",
        "datagen = ImageDataGenerator(\n",
        "    rotation_range=10,\n",
        "    zoom_range=0.1,\n",
        "    width_shift_range=0.1,\n",
        "    height_shift_range=0.1\n",
        ")\n",
        "\n",
        "datagen.fit(X_train)\n",
        "\n",
        "# fits the model on batches with real-time data augmentation\n",
        "model.fit(datagen.flow(X_train, y_train, batch_size=32),\n",
        "          steps_per_epoch=len(X_train) / 32, epochs=10)\n"
      ],
      "metadata": {
        "colab": {
          "base_uri": "https://localhost:8080/"
        },
        "id": "VKBiYAXjTdHW",
        "outputId": "de7632c7-2fa9-4fd3-c795-95f775355683"
      },
      "execution_count": null,
      "outputs": [
        {
          "output_type": "stream",
          "name": "stdout",
          "text": [
            "Epoch 1/10\n",
            "312/312 [==============================] - 9s 26ms/step - loss: 1.3324 - accuracy: 0.9905\n",
            "Epoch 2/10\n",
            "312/312 [==============================] - 9s 28ms/step - loss: 0.0994 - accuracy: 0.9933\n",
            "Epoch 3/10\n",
            "312/312 [==============================] - 10s 30ms/step - loss: 0.0478 - accuracy: 0.9950\n",
            "Epoch 4/10\n",
            "312/312 [==============================] - 10s 31ms/step - loss: 0.0394 - accuracy: 0.9959\n",
            "Epoch 5/10\n",
            "312/312 [==============================] - 9s 30ms/step - loss: 0.0290 - accuracy: 0.9961\n",
            "Epoch 6/10\n",
            "312/312 [==============================] - 10s 31ms/step - loss: 0.0313 - accuracy: 0.9958\n",
            "Epoch 7/10\n",
            "312/312 [==============================] - 8s 27ms/step - loss: 0.0242 - accuracy: 0.9963\n",
            "Epoch 8/10\n",
            "312/312 [==============================] - 9s 29ms/step - loss: 0.0327 - accuracy: 0.9961\n",
            "Epoch 9/10\n",
            "312/312 [==============================] - 9s 29ms/step - loss: 0.0263 - accuracy: 0.9962\n",
            "Epoch 10/10\n",
            "312/312 [==============================] - 8s 25ms/step - loss: 0.0315 - accuracy: 0.9963\n"
          ]
        },
        {
          "output_type": "execute_result",
          "data": {
            "text/plain": [
              "<keras.src.callbacks.History at 0x78463d6ce3b0>"
            ]
          },
          "metadata": {},
          "execution_count": 11
        }
      ]
    },
    {
      "cell_type": "markdown",
      "source": [
        "**Pretrained with feature extraction (with data augmentation)**"
      ],
      "metadata": {
        "id": "G3EYIThJTgd5"
      }
    },
    {
      "cell_type": "code",
      "source": [
        "model.fit(datagen.flow(X_train, y_train, batch_size=32),\n",
        "          steps_per_epoch=len(X_train) / 32, epochs=10)\n"
      ],
      "metadata": {
        "colab": {
          "base_uri": "https://localhost:8080/"
        },
        "id": "0hObJ2HUTofg",
        "outputId": "9151d9e6-37a1-4811-edba-af2e7a909573"
      },
      "execution_count": null,
      "outputs": [
        {
          "output_type": "stream",
          "name": "stdout",
          "text": [
            "Epoch 1/10\n",
            "312/312 [==============================] - 8s 26ms/step - loss: 0.0243 - accuracy: 0.9965\n",
            "Epoch 2/10\n",
            "312/312 [==============================] - 9s 30ms/step - loss: 0.0263 - accuracy: 0.9965\n",
            "Epoch 3/10\n",
            "312/312 [==============================] - 9s 30ms/step - loss: 0.0282 - accuracy: 0.9961\n",
            "Epoch 4/10\n",
            "312/312 [==============================] - 9s 29ms/step - loss: 0.0250 - accuracy: 0.9965\n",
            "Epoch 5/10\n",
            "312/312 [==============================] - 8s 25ms/step - loss: 0.0242 - accuracy: 0.9963\n",
            "Epoch 6/10\n",
            "312/312 [==============================] - 9s 29ms/step - loss: 0.0244 - accuracy: 0.9966\n",
            "Epoch 7/10\n",
            "312/312 [==============================] - 9s 30ms/step - loss: 0.0256 - accuracy: 0.9964\n",
            "Epoch 8/10\n",
            "312/312 [==============================] - 8s 26ms/step - loss: 0.0243 - accuracy: 0.9964\n",
            "Epoch 9/10\n",
            "312/312 [==============================] - 8s 26ms/step - loss: 0.0220 - accuracy: 0.9963\n",
            "Epoch 10/10\n",
            "312/312 [==============================] - 9s 29ms/step - loss: 0.0251 - accuracy: 0.9964\n"
          ]
        },
        {
          "output_type": "execute_result",
          "data": {
            "text/plain": [
              "<keras.src.callbacks.History at 0x78463d6cc0a0>"
            ]
          },
          "metadata": {},
          "execution_count": 12
        }
      ]
    },
    {
      "cell_type": "markdown",
      "source": [
        "**Pretrained with last 5 layers Fine tuning (with as is data)**"
      ],
      "metadata": {
        "id": "8x-TF26_TrWI"
      }
    },
    {
      "cell_type": "code",
      "source": [
        "from keras.applications import VGG16\n",
        "\n",
        "conv_base = VGG16(weights='imagenet', include_top=False, input_shape=(32, 32, 3))\n",
        "\n",
        "conv_base.trainable = True\n",
        "\n",
        "for layer in conv_base.layers[:-5]:\n",
        "    layer.trainable = False\n",
        "\n",
        "model.compile(optimizer='adam', loss='categorical_crossentropy', metrics=['accuracy'])\n",
        "model.fit(X_train, y_train, epochs=10, validation_data=(X_test, y_test))\n"
      ],
      "metadata": {
        "colab": {
          "base_uri": "https://localhost:8080/"
        },
        "id": "nzAWxdxRT05D",
        "outputId": "32be99ea-5ad4-4dcd-e97c-abad4da16055"
      },
      "execution_count": null,
      "outputs": [
        {
          "output_type": "stream",
          "name": "stdout",
          "text": [
            "Downloading data from https://storage.googleapis.com/tensorflow/keras-applications/vgg16/vgg16_weights_tf_dim_ordering_tf_kernels_notop.h5\n",
            "58889256/58889256 [==============================] - 0s 0us/step\n",
            "Epoch 1/10\n",
            "313/313 [==============================] - 8s 22ms/step - loss: 0.0304 - accuracy: 0.9964 - val_loss: 0.0242 - val_accuracy: 0.9965\n",
            "Epoch 2/10\n",
            "313/313 [==============================] - 8s 25ms/step - loss: 0.0357 - accuracy: 0.9965 - val_loss: 0.0103 - val_accuracy: 0.9978\n",
            "Epoch 3/10\n",
            "313/313 [==============================] - 9s 28ms/step - loss: 0.0127 - accuracy: 0.9971 - val_loss: 0.0049 - val_accuracy: 0.9987\n",
            "Epoch 4/10\n",
            "313/313 [==============================] - 7s 21ms/step - loss: 0.0058 - accuracy: 0.9981 - val_loss: 0.0030 - val_accuracy: 0.9993\n",
            "Epoch 5/10\n",
            "313/313 [==============================] - 8s 25ms/step - loss: 0.0062 - accuracy: 0.9986 - val_loss: 0.0443 - val_accuracy: 0.9885\n",
            "Epoch 6/10\n",
            "313/313 [==============================] - 7s 21ms/step - loss: 0.0054 - accuracy: 0.9983 - val_loss: 7.5202e-04 - val_accuracy: 0.9999\n",
            "Epoch 7/10\n",
            "313/313 [==============================] - 8s 25ms/step - loss: 4.0563e-04 - accuracy: 0.9998 - val_loss: 7.7412e-05 - val_accuracy: 1.0000\n",
            "Epoch 8/10\n",
            "313/313 [==============================] - 8s 25ms/step - loss: 7.5843e-05 - accuracy: 1.0000 - val_loss: 3.8166e-05 - val_accuracy: 1.0000\n",
            "Epoch 9/10\n",
            "313/313 [==============================] - 8s 26ms/step - loss: 3.4814e-05 - accuracy: 1.0000 - val_loss: 2.3774e-05 - val_accuracy: 1.0000\n",
            "Epoch 10/10\n",
            "313/313 [==============================] - 8s 25ms/step - loss: 2.2645e-05 - accuracy: 1.0000 - val_loss: 1.6507e-05 - val_accuracy: 1.0000\n"
          ]
        },
        {
          "output_type": "execute_result",
          "data": {
            "text/plain": [
              "<keras.src.callbacks.History at 0x78462dc7cd60>"
            ]
          },
          "metadata": {},
          "execution_count": 14
        }
      ]
    },
    {
      "cell_type": "markdown",
      "source": [
        "**Pretrained with last 5 layers Fine tuning (with data augmentation)**"
      ],
      "metadata": {
        "id": "uZ1w9KzMT2sB"
      }
    },
    {
      "cell_type": "code",
      "source": [
        "model.fit(datagen.flow(X_train, y_train, batch_size=32),\n",
        "          steps_per_epoch=len(X_train) / 32, epochs=10)\n",
        "train_data = pd.read_csv('/content/fashion-mnist_test.csv')\n",
        "test_data = pd.read_csv('/content/fashion-mnist_test.csv')"
      ],
      "metadata": {
        "colab": {
          "base_uri": "https://localhost:8080/"
        },
        "id": "qgWVtPGvUETz",
        "outputId": "a81d6d1c-eaee-448b-872b-36e674c494ab"
      },
      "execution_count": null,
      "outputs": [
        {
          "output_type": "stream",
          "name": "stdout",
          "text": [
            "Epoch 1/10\n",
            "312/312 [==============================] - 10s 29ms/step - loss: 0.0445 - accuracy: 0.9961\n",
            "Epoch 2/10\n",
            "312/312 [==============================] - 8s 26ms/step - loss: 0.0262 - accuracy: 0.9964\n",
            "Epoch 3/10\n",
            "312/312 [==============================] - 9s 29ms/step - loss: 0.0235 - accuracy: 0.9963\n",
            "Epoch 4/10\n",
            "312/312 [==============================] - 9s 29ms/step - loss: 0.0236 - accuracy: 0.9963\n",
            "Epoch 5/10\n",
            "312/312 [==============================] - 9s 29ms/step - loss: 0.0244 - accuracy: 0.9964\n",
            "Epoch 6/10\n",
            "312/312 [==============================] - 8s 25ms/step - loss: 0.0216 - accuracy: 0.9965\n",
            "Epoch 7/10\n",
            "312/312 [==============================] - 8s 25ms/step - loss: 0.1916 - accuracy: 0.9958\n",
            "Epoch 8/10\n",
            "312/312 [==============================] - 9s 29ms/step - loss: 0.0236 - accuracy: 0.9965\n",
            "Epoch 9/10\n",
            "312/312 [==============================] - 9s 29ms/step - loss: 0.0224 - accuracy: 0.9964\n",
            "Epoch 10/10\n",
            "312/312 [==============================] - 8s 27ms/step - loss: 0.0251 - accuracy: 0.9962\n"
          ]
        }
      ]
    }
  ]
}